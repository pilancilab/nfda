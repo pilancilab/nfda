{
 "cells": [
  {
   "cell_type": "code",
   "execution_count": null,
   "id": "44fd9a70",
   "metadata": {
    "code_folding": [
     0
    ]
   },
   "outputs": [],
   "source": [
    "# import packages \n",
    "import numpy as np\n",
    "import matplotlib.pyplot as plt\n",
    "import matplotlib, time\n",
    "import cvxpy as cp"
   ]
  },
  {
   "cell_type": "code",
   "execution_count": null,
   "id": "b856dbd7",
   "metadata": {
    "code_folding": [
     1,
     12,
     25,
     32
    ]
   },
   "outputs": [],
   "source": [
    "# function definitions\n",
    "def compute_stats(A, y, K):\n",
    "    # This function computes the class means and covariance matrices.\n",
    "    class_means = np.zeros((A.shape[1],K))\n",
    "    covariances = np.zeros((A.shape[1],A.shape[1],K))\n",
    "    \n",
    "    for k in range(K):\n",
    "        class_means[:,k] = np.mean(A[y[:,0] == k, :], axis=0)\n",
    "        A_minus_mean_k = A[y[:,0] == k, :] - class_means[:,k]\n",
    "        covariances[:,:,k] = np.matmul(A_minus_mean_k.T, A_minus_mean_k) # / (np.sum(y[:,0] == k)-1)\n",
    "    \n",
    "    return class_means, covariances\n",
    "def compute_acc_binary(projected_data_train, labels_train, projected_data_test, labels_test, return_pred=False):\n",
    "    class_mean_proj_0 = np.mean(projected_data_train[labels_train[:,0] == 0])\n",
    "    class_mean_proj_1 = np.mean(projected_data_train[labels_train[:,0] == 1])\n",
    "    class_means_proj = np.array([class_mean_proj_0, class_mean_proj_1])\n",
    "    \n",
    "    ypred = np.argmin(np.abs(projected_data_test - class_means_proj), axis=1)\n",
    "    \n",
    "    acc = np.sum(ypred == labels_test[:, 0]) / labels_test.shape[0]\n",
    "    \n",
    "    if return_pred:\n",
    "        return acc, np.expand_dims(ypred, axis=1)\n",
    "    else:\n",
    "        return acc\n",
    "def check_if_already_exists(element_list, element):\n",
    "    # check if element exists in element_list\n",
    "    # where element is a numpy array\n",
    "    for i in range(len(element_list)):\n",
    "        if np.array_equal(element_list[i], element):\n",
    "            return True\n",
    "    return False\n",
    "def generate_sign_patterns(A, P, verbose=False): \n",
    "    # generate sign patterns\n",
    "    n, d = A.shape\n",
    "    unique_sign_pattern_list = []  # sign patterns\n",
    "    h_vector_list = []             # random vectors used to generate the sign paterns\n",
    "    np.random.seed(0)\n",
    "    \n",
    "    while len(unique_sign_pattern_list) != P:\n",
    "        # obtain a sign pattern\n",
    "        h = np.random.normal(0, 1, (d,1)) # sample h\n",
    "        sampled_sign_pattern = (np.matmul(A, h) >= 0)[:,0]\n",
    "        # check whether that sign pattern has already been used\n",
    "        if not check_if_already_exists(unique_sign_pattern_list, sampled_sign_pattern):\n",
    "            unique_sign_pattern_list.append(sampled_sign_pattern)\n",
    "            h_vector_list.append(h)\n",
    "\n",
    "    return unique_sign_pattern_list, h_vector_list"
   ]
  },
  {
   "cell_type": "code",
   "execution_count": null,
   "id": "3625a538",
   "metadata": {
    "code_folding": [
     2,
     15
    ]
   },
   "outputs": [],
   "source": [
    "# two spirals dataset\n",
    "import math\n",
    "def spiral_xy(i, spiral_num):\n",
    "    \"\"\"\n",
    "    Create the data for a spiral.\n",
    "\n",
    "    Arguments:\n",
    "        i runs from 0 to 96\n",
    "        spiral_num is 1 or -1\n",
    "    \"\"\"\n",
    "    φ = i/16 * math.pi\n",
    "    r = 6.5 * ((104 - i)/104)\n",
    "    x = (r * math.cos(φ) * spiral_num)/13 + 0.5\n",
    "    y = (r * math.sin(φ) * spiral_num)/13 + 0.5\n",
    "    return (x, y)\n",
    "def spiral(spiral_num, n):\n",
    "    return [spiral_xy(i, spiral_num) for i in range(n)]\n",
    "\n",
    "n_ = 60\n",
    "\n",
    "a = np.array(spiral(1,n_))\n",
    "b = np.array(spiral(-1,n_))\n",
    "\n",
    "A = np.concatenate((a,b), axis=0)\n",
    "y = np.concatenate((np.zeros((a.shape[0],1)), np.ones((b.shape[0],1))), axis=0)\n",
    "\n",
    "np.random.seed(0)\n",
    "permute = np.random.choice(A.shape[0], A.shape[0], replace=False)\n",
    "A_test = A[permute[:A.shape[0]//200], :]\n",
    "y_test = y[permute[:y.shape[0]//200], :]\n",
    "\n",
    "A = A[permute[A.shape[0]//200:], :]\n",
    "y = y[permute[y.shape[0]//200:], :]\n",
    "\n",
    "n, d = A.shape\n",
    "print(A.shape, y.shape, A_test.shape, y_test.shape)\n",
    "\n",
    "\n",
    "fig = matplotlib.pyplot.gcf()\n",
    "fig.set_size_inches(6, 6)\n",
    "\n",
    "plt.rcParams.update({'font.size': 18})\n",
    "plt.xlabel('$x_1$')\n",
    "plt.ylabel('$x_2$')\n",
    "\n",
    "# plt.plot(a[:, 0], a[:, 1], 'x', label=\"Class 0\")\n",
    "# plt.plot(b[:, 0], b[:, 1], 'o', label=\"Class 1\")\n",
    "\n",
    "plt.plot(A[y[:,0]==0, 0], A[y[:,0]==0, 1], 'x', label=\"Class 0\")\n",
    "plt.plot(A[y[:,0]==1, 0], A[y[:,0]==1, 1], 'x', label=\"Class 1\")\n",
    "\n",
    "plt.legend()\n",
    "plt.grid()\n",
    "# plt.savefig('figures/two_spirals_dataset.eps', bbox_inches=\"tight\")"
   ]
  },
  {
   "cell_type": "code",
   "execution_count": null,
   "id": "f0a8dcf2",
   "metadata": {},
   "outputs": [],
   "source": [
    "# column of ones\n",
    "A = np.concatenate((A, np.ones((A.shape[0],1))), axis=1)\n",
    "n, d = A.shape\n",
    "print(n, d)\n",
    "\n",
    "A_test = np.concatenate((A_test, np.ones((A_test.shape[0],1))), axis=1)"
   ]
  },
  {
   "cell_type": "markdown",
   "id": "bfa976c0",
   "metadata": {},
   "source": [
    "### FLDA"
   ]
  },
  {
   "cell_type": "code",
   "execution_count": null,
   "id": "c66768f6",
   "metadata": {},
   "outputs": [],
   "source": [
    "# FLDA\n",
    "class_means, covariances = compute_stats(A, y, 2)\n",
    "print(class_means.shape, covariances.shape)\n",
    "\n",
    "beta = 0.1\n",
    "a = np.matmul(np.linalg.inv(covariances[:,:,0] + covariances[:,:,1] + beta*np.eye(class_means.shape[0])), class_means[:,0:1]-class_means[:,1:2])"
   ]
  },
  {
   "cell_type": "code",
   "execution_count": null,
   "id": "2cf72773",
   "metadata": {},
   "outputs": [],
   "source": [
    "projected = np.matmul(A, a)"
   ]
  },
  {
   "cell_type": "code",
   "execution_count": null,
   "id": "9f23941e",
   "metadata": {},
   "outputs": [],
   "source": [
    "# histogram\n",
    "plt.rcParams.update({'font.size': 18})\n",
    "plt.hist(projected[y[:,0] == 0], bins=10, alpha=0.5)\n",
    "plt.hist(projected[y[:,0] == 1], bins=10, alpha=0.5)\n",
    "plt.grid()\n",
    "plt.xlabel('projections')\n",
    "plt.ylabel('frequency')\n",
    "# plt.savefig('figures/flda_twospirals_hist.pdf', bbox_inches=\"tight\")"
   ]
  },
  {
   "cell_type": "code",
   "execution_count": null,
   "id": "4d99da14",
   "metadata": {},
   "outputs": [],
   "source": [
    "# PLOT DECISION BOUNDARY\n",
    "num=100\n",
    "points = np.linspace(0, 1, num=num)\n",
    "A_grid = np.zeros((num*num, 2))\n",
    "for i in range(num):\n",
    "    for j in range(num):\n",
    "        A_grid[i*num+j, 0] = points[i]\n",
    "        A_grid[i*num+j, 1] = points[j]\n",
    "\n",
    "A_grid = np.concatenate((A_grid, np.ones((A_grid.shape[0],1))), axis=1) ###\n",
    "\n",
    "A_grid_projected = np.matmul(A_grid, a)\n",
    "\n",
    "_,ypred = compute_acc_binary(projected, y, A_grid_projected, np.zeros((A_grid_projected.shape[0],1)), return_pred=True)"
   ]
  },
  {
   "cell_type": "code",
   "execution_count": null,
   "id": "3d457e82",
   "metadata": {},
   "outputs": [],
   "source": [
    "fig = matplotlib.pyplot.gcf()\n",
    "fig.set_size_inches(6, 6)\n",
    "\n",
    "plt.rcParams.update({'font.size': 18})\n",
    "\n",
    "colors = ['r', 'b']\n",
    "for i in range(A_grid_projected.shape[0]):\n",
    "    plt.plot(A_grid[i,0], A_grid[i,1], colors[ypred.astype(int)[i,0]]+\"s\")\n",
    "# plt.savefig('figures/flda_decision_boundary.pdf', bbox_inches=\"tight\")"
   ]
  },
  {
   "cell_type": "markdown",
   "id": "a1f6c295",
   "metadata": {},
   "source": [
    "### ReLU NFDA"
   ]
  },
  {
   "cell_type": "code",
   "execution_count": null,
   "id": "5b69e8ef",
   "metadata": {},
   "outputs": [],
   "source": [
    "# ReLU lifting\n",
    "P = 100\n",
    "\n",
    "unique_sign_patterns, h_vectors = generate_sign_patterns(A, P, verbose=False)\n",
    "\n",
    "A_lifted = np.zeros((n, P*d))\n",
    "for j in range(P):\n",
    "    A_lifted[:, j*d:(j+1)*d] = (unique_sign_patterns[j] * A.T).T\n",
    "    \n",
    "print(A_lifted.shape)"
   ]
  },
  {
   "cell_type": "code",
   "execution_count": null,
   "id": "2cce6aa6",
   "metadata": {},
   "outputs": [],
   "source": [
    "# solve\n",
    "class_means, covariances = compute_stats(A_lifted, y, 2)\n",
    "print(class_means.shape, covariances.shape)\n",
    "\n",
    "beta = 1\n",
    "a = np.matmul(np.linalg.inv(covariances[:,:,0] + covariances[:,:,1] + beta*np.eye(class_means.shape[0])), class_means[:,0:1]-class_means[:,1:2])"
   ]
  },
  {
   "cell_type": "code",
   "execution_count": null,
   "id": "a4f8ae4d",
   "metadata": {},
   "outputs": [],
   "source": [
    "# training set\n",
    "projected = np.matmul(A_lifted, a)\n",
    "plt.plot(projected[y[:,0] == 0], np.zeros(np.sum(y[:,0] == 0)), \"bo\")\n",
    "plt.plot(projected[y[:,0] == 1], np.ones(np.sum(y[:,0] == 1)), \"r*\")\n",
    "plt.ylim(-1,2)\n",
    "plt.grid()\n",
    "# plt.savefig('figures/fisher_LDA_neural.eps', bbox_inches=\"tight\")"
   ]
  },
  {
   "cell_type": "code",
   "execution_count": null,
   "id": "50da2f61",
   "metadata": {},
   "outputs": [],
   "source": [
    "# solving the LP\n",
    "u = cp.Variable((d,P))\n",
    "v = cp.Variable((d,P))\n",
    "\n",
    "constraints = []\n",
    "constraints += [u - v == a.reshape((P,d)).T]\n",
    "\n",
    "for j in range(P):\n",
    "    constraints += [cp.matmul(((2*unique_sign_patterns[j] - 1) * A.T).T, u[:, j:j+1]) >= 0]\n",
    "    constraints += [cp.matmul(((2*unique_sign_patterns[j] - 1) * A.T).T, v[:, j:j+1]) >= 0]\n",
    "    \n",
    "# Define and solve the CVXPY problem.\n",
    "x = cp.Variable(n)\n",
    "prob = cp.Problem(cp.Minimize(0), constraints)\n",
    "# prob = cp.Problem(cp.Minimize(cp.sum_squares(u)+cp.sum_squares(v)), constraints)\n",
    "prob.solve(solver=cp.MOSEK)"
   ]
  },
  {
   "cell_type": "code",
   "execution_count": null,
   "id": "3d3675a1",
   "metadata": {},
   "outputs": [],
   "source": [
    "# obtain neural network weights\n",
    "first_layer_weights = np.concatenate((u.value, v.value), axis=1)\n",
    "second_layer_weights = np.concatenate((np.ones((1,P)), -np.ones((1,P))), axis=1)\n",
    "print(first_layer_weights.shape, second_layer_weights.shape)"
   ]
  },
  {
   "cell_type": "code",
   "execution_count": null,
   "id": "48d084c0",
   "metadata": {},
   "outputs": [],
   "source": [
    "# forward prop\n",
    "relu_projected = np.matmul(np.maximum(np.matmul(A, first_layer_weights), 0), second_layer_weights.T)"
   ]
  },
  {
   "cell_type": "code",
   "execution_count": null,
   "id": "7e293573",
   "metadata": {},
   "outputs": [],
   "source": [
    "# histogram\n",
    "plt.rcParams.update({'font.size': 18})\n",
    "plt.hist(relu_projected[y[:,0] == 0], bins=10, alpha=0.5)\n",
    "plt.hist(relu_projected[y[:,0] == 1], bins=10, alpha=0.5)\n",
    "plt.grid()\n",
    "plt.xlabel('projections')\n",
    "plt.ylabel('frequency')\n",
    "# plt.savefig('figures/nfda_relu_twospirals_hist.pdf', bbox_inches=\"tight\")"
   ]
  },
  {
   "cell_type": "code",
   "execution_count": null,
   "id": "e78b13b9",
   "metadata": {},
   "outputs": [],
   "source": [
    "# PLOT DECISION BOUNDARY\n",
    "num=100\n",
    "points = np.linspace(0, 1, num=num)\n",
    "A_grid = np.zeros((num*num, 2))\n",
    "for i in range(num):\n",
    "    for j in range(num):\n",
    "        A_grid[i*num+j, 0] = points[i]\n",
    "        A_grid[i*num+j, 1] = points[j]\n",
    "        \n",
    "A_grid = np.concatenate((A_grid, np.ones((A_grid.shape[0],1))), axis=1) ###\n",
    "\n",
    "A_grid_projected = np.matmul(np.maximum(np.matmul(A_grid, first_layer_weights), 0), second_layer_weights.T)\n",
    "\n",
    "_,ypred = compute_acc_binary(projected, y, A_grid_projected, np.zeros((A_grid_projected.shape[0],1)), return_pred=True)"
   ]
  },
  {
   "cell_type": "code",
   "execution_count": null,
   "id": "2e9ee054",
   "metadata": {},
   "outputs": [],
   "source": [
    "fig = matplotlib.pyplot.gcf()\n",
    "fig.set_size_inches(6, 6)\n",
    "\n",
    "plt.rcParams.update({'font.size': 18})\n",
    "\n",
    "colors = ['r', 'b']\n",
    "for i in range(A_grid_projected.shape[0]):\n",
    "    plt.plot(A_grid[i,0], A_grid[i,1], colors[ypred.astype(int)[i,0]]+\"s\")\n",
    "# plt.savefig('figures/nfda_decision_boundary_beta_{}.pdf'.format(beta), bbox_inches=\"tight\")"
   ]
  },
  {
   "cell_type": "code",
   "execution_count": null,
   "id": "663f430a",
   "metadata": {},
   "outputs": [],
   "source": []
  },
  {
   "cell_type": "code",
   "execution_count": null,
   "id": "63b858db",
   "metadata": {},
   "outputs": [],
   "source": []
  },
  {
   "cell_type": "code",
   "execution_count": null,
   "id": "fe2787bc",
   "metadata": {},
   "outputs": [],
   "source": []
  }
 ],
 "metadata": {
  "kernelspec": {
   "display_name": "Python 3 (ipykernel)",
   "language": "python",
   "name": "python3"
  },
  "language_info": {
   "codemirror_mode": {
    "name": "ipython",
    "version": 3
   },
   "file_extension": ".py",
   "mimetype": "text/x-python",
   "name": "python",
   "nbconvert_exporter": "python",
   "pygments_lexer": "ipython3",
   "version": "3.11.1"
  }
 },
 "nbformat": 4,
 "nbformat_minor": 5
}
